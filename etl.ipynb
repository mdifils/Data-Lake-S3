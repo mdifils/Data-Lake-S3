{
 "cells": [
  {
   "cell_type": "code",
   "execution_count": 1,
   "id": "feee436d-6826-4e01-ba8f-a7864dadb981",
   "metadata": {
    "execution": {
     "iopub.execute_input": "2022-03-16T17:09:18.927830Z",
     "iopub.status.busy": "2022-03-16T17:09:18.927573Z",
     "iopub.status.idle": "2022-03-16T17:09:53.053600Z",
     "shell.execute_reply": "2022-03-16T17:09:53.051409Z",
     "shell.execute_reply.started": "2022-03-16T17:09:18.927800Z"
    }
   },
   "outputs": [
    {
     "data": {
      "application/vnd.jupyter.widget-view+json": {
       "model_id": "72e87120b57246918455b43cc88a6dff",
       "version_major": 2,
       "version_minor": 0
      },
      "text/plain": [
       "VBox()"
      ]
     },
     "metadata": {},
     "output_type": "display_data"
    },
    {
     "name": "stdout",
     "output_type": "stream",
     "text": [
      "Starting Spark application\n"
     ]
    },
    {
     "data": {
      "text/html": [
       "<table>\n",
       "<tr><th>ID</th><th>YARN Application ID</th><th>Kind</th><th>State</th><th>Spark UI</th><th>Driver log</th><th>Current session?</th></tr><tr><td>0</td><td>application_1647448853284_0001</td><td>pyspark</td><td>idle</td><td><a target=\"_blank\" href=\"http://ip-172-31-5-85.us-west-2.compute.internal:20888/proxy/application_1647448853284_0001/\">Link</a></td><td><a target=\"_blank\" href=\"http://ip-172-31-3-234.us-west-2.compute.internal:8042/node/containerlogs/container_1647448853284_0001_01_000001/livy\">Link</a></td><td>✔</td></tr></table>"
      ],
      "text/plain": [
       "<IPython.core.display.HTML object>"
      ]
     },
     "metadata": {},
     "output_type": "display_data"
    },
    {
     "data": {
      "application/vnd.jupyter.widget-view+json": {
       "model_id": "",
       "version_major": 2,
       "version_minor": 0
      },
      "text/plain": [
       "FloatProgress(value=0.0, bar_style='info', description='Progress:', layout=Layout(height='25px', width='50%'),…"
      ]
     },
     "metadata": {},
     "output_type": "display_data"
    },
    {
     "name": "stdout",
     "output_type": "stream",
     "text": [
      "SparkSession available as 'spark'.\n"
     ]
    },
    {
     "data": {
      "application/vnd.jupyter.widget-view+json": {
       "model_id": "",
       "version_major": 2,
       "version_minor": 0
      },
      "text/plain": [
       "FloatProgress(value=0.0, bar_style='info', description='Progress:', layout=Layout(height='25px', width='50%'),…"
      ]
     },
     "metadata": {},
     "output_type": "display_data"
    }
   ],
   "source": [
    "import pyspark.sql.types as T\n",
    "import pyspark.sql.functions as F\n",
    "from pyspark.sql.window import Window"
   ]
  },
  {
   "cell_type": "markdown",
   "id": "1904b0d3-6ac3-426c-b9a2-baeb0df9bf1f",
   "metadata": {},
   "source": [
    "## Installing pandas package"
   ]
  },
  {
   "cell_type": "code",
   "execution_count": 2,
   "id": "da6596aa-bdf8-488c-8a03-de19fd974948",
   "metadata": {
    "execution": {
     "iopub.execute_input": "2022-03-16T17:09:53.058728Z",
     "iopub.status.busy": "2022-03-16T17:09:53.058470Z",
     "iopub.status.idle": "2022-03-16T17:09:54.567441Z",
     "shell.execute_reply": "2022-03-16T17:09:54.566465Z",
     "shell.execute_reply.started": "2022-03-16T17:09:53.058699Z"
    }
   },
   "outputs": [
    {
     "data": {
      "application/vnd.jupyter.widget-view+json": {
       "model_id": "6da1fe18d39842a4abf80c6647c05bef",
       "version_major": 2,
       "version_minor": 0
      },
      "text/plain": [
       "VBox()"
      ]
     },
     "metadata": {},
     "output_type": "display_data"
    },
    {
     "data": {
      "application/vnd.jupyter.widget-view+json": {
       "model_id": "",
       "version_major": 2,
       "version_minor": 0
      },
      "text/plain": [
       "FloatProgress(value=0.0, bar_style='info', description='Progress:', layout=Layout(height='25px', width='50%'),…"
      ]
     },
     "metadata": {},
     "output_type": "display_data"
    },
    {
     "name": "stdout",
     "output_type": "stream",
     "text": [
      "Package                    Version\n",
      "-------------------------- -------\n",
      "beautifulsoup4             4.8.1\n",
      "boto                       2.49.0\n",
      "jmespath                   0.9.4\n",
      "lxml                       4.4.1\n",
      "mysqlclient                1.4.4\n",
      "nltk                       3.4.5\n",
      "nose                       1.3.4\n",
      "numpy                      1.14.5\n",
      "pip                        21.3.1\n",
      "py-dateutil                2.2\n",
      "python36-sagemaker-pyspark 1.2.6\n",
      "pytz                       2019.3\n",
      "PyYAML                     3.11\n",
      "setuptools                 59.6.0\n",
      "six                        1.12.0\n",
      "soupsieve                  1.9.4\n",
      "wheel                      0.37.1\n",
      "windmill                   1.6"
     ]
    }
   ],
   "source": [
    "sc.list_packages()"
   ]
  },
  {
   "cell_type": "code",
   "execution_count": 3,
   "id": "356ab070-ad4f-40b4-9036-fab1a26be4c9",
   "metadata": {
    "execution": {
     "iopub.execute_input": "2022-03-16T17:09:54.569960Z",
     "iopub.status.busy": "2022-03-16T17:09:54.569365Z",
     "iopub.status.idle": "2022-03-16T17:10:12.309641Z",
     "shell.execute_reply": "2022-03-16T17:10:12.308841Z",
     "shell.execute_reply.started": "2022-03-16T17:09:54.569920Z"
    }
   },
   "outputs": [
    {
     "data": {
      "application/vnd.jupyter.widget-view+json": {
       "model_id": "ad370669338c44aa8a8255e0d1e027a1",
       "version_major": 2,
       "version_minor": 0
      },
      "text/plain": [
       "VBox()"
      ]
     },
     "metadata": {},
     "output_type": "display_data"
    },
    {
     "data": {
      "application/vnd.jupyter.widget-view+json": {
       "model_id": "",
       "version_major": 2,
       "version_minor": 0
      },
      "text/plain": [
       "FloatProgress(value=0.0, bar_style='info', description='Progress:', layout=Layout(height='25px', width='50%'),…"
      ]
     },
     "metadata": {},
     "output_type": "display_data"
    },
    {
     "name": "stdout",
     "output_type": "stream",
     "text": [
      "Collecting pandas==1.0.5\n",
      "  Downloading pandas-1.0.5-cp36-cp36m-manylinux1_x86_64.whl (10.1 MB)\n",
      "Collecting python-dateutil>=2.6.1\n",
      "  Downloading python_dateutil-2.8.2-py2.py3-none-any.whl (247 kB)\n",
      "Requirement already satisfied: numpy>=1.13.3 in /usr/local/lib64/python3.6/site-packages (from pandas==1.0.5) (1.14.5)\n",
      "Requirement already satisfied: pytz>=2017.2 in /usr/local/lib/python3.6/site-packages (from pandas==1.0.5) (2019.3)\n",
      "Requirement already satisfied: six>=1.5 in /usr/local/lib/python3.6/site-packages (from python-dateutil>=2.6.1->pandas==1.0.5) (1.12.0)\n",
      "Installing collected packages: python-dateutil, pandas\n",
      "Successfully installed pandas-1.0.5 python-dateutil-2.8.2"
     ]
    }
   ],
   "source": [
    "sc.install_pypi_package(\"pandas==1.0.5\")"
   ]
  },
  {
   "cell_type": "code",
   "execution_count": 4,
   "id": "22154da6-e5bb-4d5c-b853-c167a628bd48",
   "metadata": {
    "execution": {
     "iopub.execute_input": "2022-03-16T17:10:12.311556Z",
     "iopub.status.busy": "2022-03-16T17:10:12.311303Z",
     "iopub.status.idle": "2022-03-16T17:10:13.294659Z",
     "shell.execute_reply": "2022-03-16T17:10:13.293951Z",
     "shell.execute_reply.started": "2022-03-16T17:10:12.311518Z"
    }
   },
   "outputs": [
    {
     "data": {
      "application/vnd.jupyter.widget-view+json": {
       "model_id": "9713ebf5e9ae42bab967dc529455cf8b",
       "version_major": 2,
       "version_minor": 0
      },
      "text/plain": [
       "VBox()"
      ]
     },
     "metadata": {},
     "output_type": "display_data"
    },
    {
     "data": {
      "application/vnd.jupyter.widget-view+json": {
       "model_id": "",
       "version_major": 2,
       "version_minor": 0
      },
      "text/plain": [
       "FloatProgress(value=0.0, bar_style='info', description='Progress:', layout=Layout(height='25px', width='50%'),…"
      ]
     },
     "metadata": {},
     "output_type": "display_data"
    },
    {
     "name": "stdout",
     "output_type": "stream",
     "text": [
      "Package                    Version\n",
      "-------------------------- -------\n",
      "beautifulsoup4             4.8.1\n",
      "boto                       2.49.0\n",
      "jmespath                   0.9.4\n",
      "lxml                       4.4.1\n",
      "mysqlclient                1.4.4\n",
      "nltk                       3.4.5\n",
      "nose                       1.3.4\n",
      "numpy                      1.14.5\n",
      "pandas                     1.0.5\n",
      "pip                        21.3.1\n",
      "py-dateutil                2.2\n",
      "python-dateutil            2.8.2\n",
      "python36-sagemaker-pyspark 1.2.6\n",
      "pytz                       2019.3\n",
      "PyYAML                     3.11\n",
      "setuptools                 59.6.0\n",
      "six                        1.12.0\n",
      "soupsieve                  1.9.4\n",
      "wheel                      0.37.1\n",
      "windmill                   1.6"
     ]
    }
   ],
   "source": [
    "sc.list_packages()"
   ]
  },
  {
   "cell_type": "markdown",
   "id": "b4f6cac1-b466-46e5-852c-a641d7f0313b",
   "metadata": {},
   "source": [
    "## Get input and output folder in S3"
   ]
  },
  {
   "cell_type": "code",
   "execution_count": 35,
   "id": "7718f247-f167-426e-a2e7-7cf5fdedfb2c",
   "metadata": {
    "execution": {
     "iopub.execute_input": "2022-03-16T17:21:18.790521Z",
     "iopub.status.busy": "2022-03-16T17:21:18.790268Z",
     "iopub.status.idle": "2022-03-16T17:21:18.951123Z",
     "shell.execute_reply": "2022-03-16T17:21:18.950427Z",
     "shell.execute_reply.started": "2022-03-16T17:21:18.790494Z"
    }
   },
   "outputs": [
    {
     "data": {
      "application/vnd.jupyter.widget-view+json": {
       "model_id": "2c992e540df246e6af82591145880b00",
       "version_major": 2,
       "version_minor": 0
      },
      "text/plain": [
       "VBox()"
      ]
     },
     "metadata": {},
     "output_type": "display_data"
    },
    {
     "data": {
      "application/vnd.jupyter.widget-view+json": {
       "model_id": "",
       "version_major": 2,
       "version_minor": 0
      },
      "text/plain": [
       "FloatProgress(value=0.0, bar_style='info', description='Progress:', layout=Layout(height='25px', width='50%'),…"
      ]
     },
     "metadata": {},
     "output_type": "display_data"
    }
   ],
   "source": [
    "songPath = 's3a://udacity-dend/song_data/*/*/*/*.json'\n",
    "logPath = 's3a://udacity-dend/log_data/*/*/*.json'"
   ]
  },
  {
   "cell_type": "markdown",
   "id": "89a9a591-ee5b-4388-b1f1-052244b67d2f",
   "metadata": {},
   "source": [
    "**Make sure to add a valid output S3 path, otherwise you'll get an error while writing to s3**"
   ]
  },
  {
   "cell_type": "code",
   "execution_count": 36,
   "id": "580b17f3-fd1b-472d-9f37-f20443930525",
   "metadata": {
    "execution": {
     "iopub.execute_input": "2022-03-16T17:21:18.973052Z",
     "iopub.status.busy": "2022-03-16T17:21:18.972768Z",
     "iopub.status.idle": "2022-03-16T17:21:19.247002Z",
     "shell.execute_reply": "2022-03-16T17:21:19.246025Z",
     "shell.execute_reply.started": "2022-03-16T17:21:18.973022Z"
    }
   },
   "outputs": [
    {
     "data": {
      "application/vnd.jupyter.widget-view+json": {
       "model_id": "c4d026ba412c476fba61aee757ecd628",
       "version_major": 2,
       "version_minor": 0
      },
      "text/plain": [
       "VBox()"
      ]
     },
     "metadata": {},
     "output_type": "display_data"
    },
    {
     "data": {
      "application/vnd.jupyter.widget-view+json": {
       "model_id": "",
       "version_major": 2,
       "version_minor": 0
      },
      "text/plain": [
       "FloatProgress(value=0.0, bar_style='info', description='Progress:', layout=Layout(height='25px', width='50%'),…"
      ]
     },
     "metadata": {},
     "output_type": "display_data"
    }
   ],
   "source": [
    "output = 's3a://storage-for-sparkify/'"
   ]
  },
  {
   "cell_type": "markdown",
   "id": "7c5c5dea-6e6f-41ad-a311-f10ea1f50eab",
   "metadata": {},
   "source": [
    "# Read songs data"
   ]
  },
  {
   "cell_type": "code",
   "execution_count": 37,
   "id": "6b42cc7c-9670-4dfb-b244-835473fe548e",
   "metadata": {
    "execution": {
     "iopub.execute_input": "2022-03-16T17:21:19.253834Z",
     "iopub.status.busy": "2022-03-16T17:21:19.253530Z",
     "iopub.status.idle": "2022-03-16T17:25:18.052838Z",
     "shell.execute_reply": "2022-03-16T17:25:18.052047Z",
     "shell.execute_reply.started": "2022-03-16T17:21:19.253789Z"
    }
   },
   "outputs": [
    {
     "data": {
      "application/vnd.jupyter.widget-view+json": {
       "model_id": "ac79947cc84e4781b1a14e5d87f742f3",
       "version_major": 2,
       "version_minor": 0
      },
      "text/plain": [
       "VBox()"
      ]
     },
     "metadata": {},
     "output_type": "display_data"
    },
    {
     "data": {
      "application/vnd.jupyter.widget-view+json": {
       "model_id": "",
       "version_major": 2,
       "version_minor": 0
      },
      "text/plain": [
       "FloatProgress(value=0.0, bar_style='info', description='Progress:', layout=Layout(height='25px', width='50%'),…"
      ]
     },
     "metadata": {},
     "output_type": "display_data"
    },
    {
     "name": "stdout",
     "output_type": "stream",
     "text": [
      "14896"
     ]
    }
   ],
   "source": [
    "df_song = spark.read.json(songPath)\n",
    "df_song.persist()\n",
    "df_song.count()"
   ]
  },
  {
   "cell_type": "markdown",
   "id": "9e627d48-cacc-4296-a523-16f8e98a37f3",
   "metadata": {},
   "source": [
    "### Check schema\n",
    "By default schema is inferred when importing data from json files"
   ]
  },
  {
   "cell_type": "code",
   "execution_count": 38,
   "id": "8742877e-77d6-4077-ac17-63d9b32db02a",
   "metadata": {
    "execution": {
     "iopub.execute_input": "2022-03-16T17:25:18.054999Z",
     "iopub.status.busy": "2022-03-16T17:25:18.054733Z",
     "iopub.status.idle": "2022-03-16T17:25:18.328628Z",
     "shell.execute_reply": "2022-03-16T17:25:18.326990Z",
     "shell.execute_reply.started": "2022-03-16T17:25:18.054960Z"
    }
   },
   "outputs": [
    {
     "data": {
      "application/vnd.jupyter.widget-view+json": {
       "model_id": "8b6570ee0529490b8d2094772463ce1a",
       "version_major": 2,
       "version_minor": 0
      },
      "text/plain": [
       "VBox()"
      ]
     },
     "metadata": {},
     "output_type": "display_data"
    },
    {
     "data": {
      "application/vnd.jupyter.widget-view+json": {
       "model_id": "",
       "version_major": 2,
       "version_minor": 0
      },
      "text/plain": [
       "FloatProgress(value=0.0, bar_style='info', description='Progress:', layout=Layout(height='25px', width='50%'),…"
      ]
     },
     "metadata": {},
     "output_type": "display_data"
    },
    {
     "name": "stdout",
     "output_type": "stream",
     "text": [
      "root\n",
      " |-- artist_id: string (nullable = true)\n",
      " |-- artist_latitude: double (nullable = true)\n",
      " |-- artist_location: string (nullable = true)\n",
      " |-- artist_longitude: double (nullable = true)\n",
      " |-- artist_name: string (nullable = true)\n",
      " |-- duration: double (nullable = true)\n",
      " |-- num_songs: long (nullable = true)\n",
      " |-- song_id: string (nullable = true)\n",
      " |-- title: string (nullable = true)\n",
      " |-- year: long (nullable = true)"
     ]
    }
   ],
   "source": [
    "df_song.printSchema()"
   ]
  },
  {
   "cell_type": "markdown",
   "id": "5e52d3cb-46e8-4a22-9c14-02f441b9a856",
   "metadata": {},
   "source": [
    "## Songs table"
   ]
  },
  {
   "cell_type": "code",
   "execution_count": 39,
   "id": "8d2860e8-5db6-4faa-8681-53fc9e4e2dbb",
   "metadata": {
    "execution": {
     "iopub.execute_input": "2022-03-16T17:25:18.330790Z",
     "iopub.status.busy": "2022-03-16T17:25:18.330450Z",
     "iopub.status.idle": "2022-03-16T17:25:18.625620Z",
     "shell.execute_reply": "2022-03-16T17:25:18.585289Z",
     "shell.execute_reply.started": "2022-03-16T17:25:18.330753Z"
    }
   },
   "outputs": [
    {
     "data": {
      "application/vnd.jupyter.widget-view+json": {
       "model_id": "74f9e2c8a0a4452eb3e334577de65a20",
       "version_major": 2,
       "version_minor": 0
      },
      "text/plain": [
       "VBox()"
      ]
     },
     "metadata": {},
     "output_type": "display_data"
    },
    {
     "data": {
      "application/vnd.jupyter.widget-view+json": {
       "model_id": "",
       "version_major": 2,
       "version_minor": 0
      },
      "text/plain": [
       "FloatProgress(value=0.0, bar_style='info', description='Progress:', layout=Layout(height='25px', width='50%'),…"
      ]
     },
     "metadata": {},
     "output_type": "display_data"
    }
   ],
   "source": [
    "song_cols = ['song_id', 'title', 'artist_id', 'year', 'duration']"
   ]
  },
  {
   "cell_type": "markdown",
   "id": "c4e2cd3e-4eb4-40aa-9039-d0a661cff467",
   "metadata": {},
   "source": [
    "- First required columns are selected.\n",
    "- Duplicated rows are dropped.\n",
    "- Blank spaces ou empty strings for `song_id` column are replaced by None (null).\n",
    "- Row with null values in `song_id` column are dropped."
   ]
  },
  {
   "cell_type": "code",
   "execution_count": 40,
   "id": "38166cfa-47af-4eee-a0b8-7c2cc938e478",
   "metadata": {
    "execution": {
     "iopub.execute_input": "2022-03-16T17:25:18.626991Z",
     "iopub.status.busy": "2022-03-16T17:25:18.626775Z",
     "iopub.status.idle": "2022-03-16T17:25:22.331047Z",
     "shell.execute_reply": "2022-03-16T17:25:22.330247Z",
     "shell.execute_reply.started": "2022-03-16T17:25:18.626963Z"
    }
   },
   "outputs": [
    {
     "data": {
      "application/vnd.jupyter.widget-view+json": {
       "model_id": "b23d8be7afb048ed95d1f19c4249125a",
       "version_major": 2,
       "version_minor": 0
      },
      "text/plain": [
       "VBox()"
      ]
     },
     "metadata": {},
     "output_type": "display_data"
    },
    {
     "data": {
      "application/vnd.jupyter.widget-view+json": {
       "model_id": "",
       "version_major": 2,
       "version_minor": 0
      },
      "text/plain": [
       "FloatProgress(value=0.0, bar_style='info', description='Progress:', layout=Layout(height='25px', width='50%'),…"
      ]
     },
     "metadata": {},
     "output_type": "display_data"
    },
    {
     "name": "stdout",
     "output_type": "stream",
     "text": [
      "14896"
     ]
    }
   ],
   "source": [
    "songs_table = df_song.select(song_cols)\\\n",
    "                     .distinct()\\\n",
    "                     .withColumn('song_id', F.when(F.col('song_id') == '', None).otherwise(F.col('song_id')))\\\n",
    "                     .na.drop(subset=['song_id'])\n",
    "songs_table.count()"
   ]
  },
  {
   "cell_type": "code",
   "execution_count": 41,
   "id": "46ddbecd-97c9-4d11-8f40-bc1842b6d7d5",
   "metadata": {
    "execution": {
     "iopub.execute_input": "2022-03-16T17:25:22.332678Z",
     "iopub.status.busy": "2022-03-16T17:25:22.332427Z",
     "iopub.status.idle": "2022-03-16T17:25:23.999430Z",
     "shell.execute_reply": "2022-03-16T17:25:23.998764Z",
     "shell.execute_reply.started": "2022-03-16T17:25:22.332643Z"
    }
   },
   "outputs": [
    {
     "data": {
      "application/vnd.jupyter.widget-view+json": {
       "model_id": "276b9dd9bf3c438d89c743b3a1660d51",
       "version_major": 2,
       "version_minor": 0
      },
      "text/plain": [
       "VBox()"
      ]
     },
     "metadata": {},
     "output_type": "display_data"
    },
    {
     "data": {
      "application/vnd.jupyter.widget-view+json": {
       "model_id": "",
       "version_major": 2,
       "version_minor": 0
      },
      "text/plain": [
       "FloatProgress(value=0.0, bar_style='info', description='Progress:', layout=Layout(height='25px', width='50%'),…"
      ]
     },
     "metadata": {},
     "output_type": "display_data"
    },
    {
     "name": "stdout",
     "output_type": "stream",
     "text": [
      "+------------------+--------------------+------------------+----+---------+\n",
      "|           song_id|               title|         artist_id|year| duration|\n",
      "+------------------+--------------------+------------------+----+---------+\n",
      "|SOOORVX12A6D4FA612|Gimme A Chance  (...|ARKDZJP1187B98DD0C|2002|230.89587|\n",
      "|SOQWBCS12A58A7C2C3|         Train Track|ARV62991187B99DE55|2007|168.64608|\n",
      "|SOOQCOC12A8C132A5A|Heavy On My Mind ...|AR531IG1187FB59B35|2007|319.84281|\n",
      "|SOVEHRU12AB017CEE6|Tomorrow We Sail ...|AR2LRXK1187FB593DD|   0|324.85832|\n",
      "|SOPOOMV12AF72AC204|     She Is Michelle|ARPONRM1187B99B272|   0|373.65506|\n",
      "+------------------+--------------------+------------------+----+---------+\n",
      "only showing top 5 rows"
     ]
    }
   ],
   "source": [
    "songs_table.show(5)"
   ]
  },
  {
   "cell_type": "markdown",
   "id": "9ac1fe2a-7e1d-41db-99a4-e7d0823f6c23",
   "metadata": {},
   "source": [
    "### Writing songs table to parquet files into S3"
   ]
  },
  {
   "cell_type": "code",
   "execution_count": 42,
   "id": "2518749f-fdd6-46f2-a70c-77cbccb35492",
   "metadata": {
    "execution": {
     "iopub.execute_input": "2022-03-16T17:25:24.003431Z",
     "iopub.status.busy": "2022-03-16T17:25:24.003040Z",
     "iopub.status.idle": "2022-03-16T17:25:26.849970Z",
     "shell.execute_reply": "2022-03-16T17:25:26.757147Z",
     "shell.execute_reply.started": "2022-03-16T17:25:24.003390Z"
    }
   },
   "outputs": [
    {
     "data": {
      "application/vnd.jupyter.widget-view+json": {
       "model_id": "05ed4314c1e54b439c9cd2bf3da66c26",
       "version_major": 2,
       "version_minor": 0
      },
      "text/plain": [
       "VBox()"
      ]
     },
     "metadata": {},
     "output_type": "display_data"
    },
    {
     "data": {
      "application/vnd.jupyter.widget-view+json": {
       "model_id": "",
       "version_major": 2,
       "version_minor": 0
      },
      "text/plain": [
       "FloatProgress(value=0.0, bar_style='info', description='Progress:', layout=Layout(height='25px', width='50%'),…"
      ]
     },
     "metadata": {},
     "output_type": "display_data"
    }
   ],
   "source": [
    "df_pandas = songs_table.toPandas()"
   ]
  },
  {
   "cell_type": "markdown",
   "id": "31f6b1dd-a3a3-4d15-85da-bda17cb7958b",
   "metadata": {},
   "source": [
    "- The `year` column is skewed which make it not a good choice for partioning. **I have terminated the cluster after 45 minutes**, partioning by `year` makes writing process very slow.\n",
    "- Partition by number of Spark workers: `df.repartition(number_of_workers)` is another solution but I had to terminate also the cluster. So I didn't see any improvements.\n",
    "- So writing without any partition is much quicker in this case."
   ]
  },
  {
   "cell_type": "code",
   "execution_count": 43,
   "id": "9c3be76c-5212-412c-9e96-bfef83d86163",
   "metadata": {
    "execution": {
     "iopub.execute_input": "2022-03-16T17:25:26.930576Z",
     "iopub.status.busy": "2022-03-16T17:25:26.852524Z",
     "iopub.status.idle": "2022-03-16T17:25:27.636746Z",
     "shell.execute_reply": "2022-03-16T17:25:27.635929Z",
     "shell.execute_reply.started": "2022-03-16T17:25:26.930519Z"
    }
   },
   "outputs": [
    {
     "data": {
      "application/vnd.jupyter.widget-view+json": {
       "model_id": "4ad9239541ac4bd2bcf47eecdccb1a93",
       "version_major": 2,
       "version_minor": 0
      },
      "text/plain": [
       "VBox()"
      ]
     },
     "metadata": {},
     "output_type": "display_data"
    },
    {
     "data": {
      "application/vnd.jupyter.widget-view+json": {
       "model_id": "",
       "version_major": 2,
       "version_minor": 0
      },
      "text/plain": [
       "FloatProgress(value=0.0, bar_style='info', description='Progress:', layout=Layout(height='25px', width='50%'),…"
      ]
     },
     "metadata": {},
     "output_type": "display_data"
    },
    {
     "name": "stdout",
     "output_type": "stream",
     "text": [
      "0       4762\n",
      "2007     871\n",
      "2006     791\n",
      "2008     779\n",
      "2005     762\n",
      "2009     738\n",
      "2004     613\n",
      "2003     563\n",
      "2002     440\n",
      "2001     404\n",
      "1999     374\n",
      "2000     349\n",
      "1997     290\n",
      "1998     285\n",
      "1995     259\n",
      "1996     237\n",
      "2010     234\n",
      "1994     231\n",
      "1992     195\n",
      "1993     184\n",
      "1991     140\n",
      "1990     117\n",
      "1989     107\n",
      "1988     101\n",
      "1987      87\n",
      "1986      86\n",
      "1982      73\n",
      "1981      56\n",
      "1983      56\n",
      "1984      55\n",
      "1979      53\n",
      "1978      53\n",
      "1980      52\n",
      "1985      49\n",
      "1977      47\n",
      "1970      39\n",
      "1975      38\n",
      "1971      38\n",
      "1968      36\n",
      "1972      32\n",
      "1974      31\n",
      "1969      30\n",
      "1976      27\n",
      "1973      27\n",
      "1967      21\n",
      "1966      20\n",
      "1964      10\n",
      "1965       8\n",
      "1963       8\n",
      "1960       6\n",
      "1957       6\n",
      "1961       5\n",
      "1959       5\n",
      "1962       5\n",
      "1956       3\n",
      "1954       3\n",
      "1958       2\n",
      "1927       1\n",
      "1952       1\n",
      "1944       1\n",
      "Name: year, dtype: int64"
     ]
    }
   ],
   "source": [
    "df_pandas.year.value_counts()"
   ]
  },
  {
   "cell_type": "code",
   "execution_count": 44,
   "id": "6b13328f-ea37-4a28-b3a8-0e1cab5bb372",
   "metadata": {
    "execution": {
     "iopub.execute_input": "2022-03-16T17:25:27.638691Z",
     "iopub.status.busy": "2022-03-16T17:25:27.638455Z",
     "iopub.status.idle": "2022-03-16T17:27:24.861818Z",
     "shell.execute_reply": "2022-03-16T17:27:24.860988Z",
     "shell.execute_reply.started": "2022-03-16T17:25:27.638657Z"
    }
   },
   "outputs": [
    {
     "data": {
      "application/vnd.jupyter.widget-view+json": {
       "model_id": "df1607257ddb4886a7336933e6c94d73",
       "version_major": 2,
       "version_minor": 0
      },
      "text/plain": [
       "VBox()"
      ]
     },
     "metadata": {},
     "output_type": "display_data"
    },
    {
     "data": {
      "application/vnd.jupyter.widget-view+json": {
       "model_id": "",
       "version_major": 2,
       "version_minor": 0
      },
      "text/plain": [
       "FloatProgress(value=0.0, bar_style='info', description='Progress:', layout=Layout(height='25px', width='50%'),…"
      ]
     },
     "metadata": {},
     "output_type": "display_data"
    }
   ],
   "source": [
    "songs_table.write.parquet(output + 'songs_table', mode='Overwrite')"
   ]
  },
  {
   "cell_type": "markdown",
   "id": "8282d136-ecd2-4a98-95e7-e3dc25f7264f",
   "metadata": {},
   "source": [
    "## Artists table"
   ]
  },
  {
   "cell_type": "code",
   "execution_count": 45,
   "id": "8d7d20fb-b1da-422b-a469-cf3eb5e9e3e1",
   "metadata": {
    "execution": {
     "iopub.execute_input": "2022-03-16T17:27:24.863540Z",
     "iopub.status.busy": "2022-03-16T17:27:24.863285Z",
     "iopub.status.idle": "2022-03-16T17:27:25.134933Z",
     "shell.execute_reply": "2022-03-16T17:27:25.134210Z",
     "shell.execute_reply.started": "2022-03-16T17:27:24.863501Z"
    }
   },
   "outputs": [
    {
     "data": {
      "application/vnd.jupyter.widget-view+json": {
       "model_id": "b0d6f3fc7ae14a21b46b5025332fee86",
       "version_major": 2,
       "version_minor": 0
      },
      "text/plain": [
       "VBox()"
      ]
     },
     "metadata": {},
     "output_type": "display_data"
    },
    {
     "data": {
      "application/vnd.jupyter.widget-view+json": {
       "model_id": "",
       "version_major": 2,
       "version_minor": 0
      },
      "text/plain": [
       "FloatProgress(value=0.0, bar_style='info', description='Progress:', layout=Layout(height='25px', width='50%'),…"
      ]
     },
     "metadata": {},
     "output_type": "display_data"
    }
   ],
   "source": [
    "artist_cols = [\"artist_id\", \"artist_name\", \"artist_location\", \"artist_latitude\", \"artist_longitude\"]"
   ]
  },
  {
   "cell_type": "markdown",
   "id": "b4959d72-2305-465c-8203-96234c8acb66",
   "metadata": {},
   "source": [
    "- First required columns are selected.\n",
    "- Duplicated rows are dropped.\n",
    "- Blank spaces ou empty strings for `artist_id` column are replaced by None (null).\n",
    "- Row with null values in `artist_id` column are dropped."
   ]
  },
  {
   "cell_type": "code",
   "execution_count": 46,
   "id": "012bd1ad-cb37-48ba-8fe2-5e8d2e46435e",
   "metadata": {
    "execution": {
     "iopub.execute_input": "2022-03-16T17:27:25.136391Z",
     "iopub.status.busy": "2022-03-16T17:27:25.136048Z",
     "iopub.status.idle": "2022-03-16T17:27:27.836254Z",
     "shell.execute_reply": "2022-03-16T17:27:27.834698Z",
     "shell.execute_reply.started": "2022-03-16T17:27:25.136361Z"
    }
   },
   "outputs": [
    {
     "data": {
      "application/vnd.jupyter.widget-view+json": {
       "model_id": "69ed8c8af1e047fcabaebb7d1e8d0933",
       "version_major": 2,
       "version_minor": 0
      },
      "text/plain": [
       "VBox()"
      ]
     },
     "metadata": {},
     "output_type": "display_data"
    },
    {
     "data": {
      "application/vnd.jupyter.widget-view+json": {
       "model_id": "",
       "version_major": 2,
       "version_minor": 0
      },
      "text/plain": [
       "FloatProgress(value=0.0, bar_style='info', description='Progress:', layout=Layout(height='25px', width='50%'),…"
      ]
     },
     "metadata": {},
     "output_type": "display_data"
    },
    {
     "name": "stdout",
     "output_type": "stream",
     "text": [
      "10025"
     ]
    }
   ],
   "source": [
    "artists_table = df_song.select(artist_cols)\\\n",
    "                       .distinct()\\\n",
    "                       .withColumn('artist_id', F.when(F.col('artist_id') == '', None).otherwise(F.col('artist_id')))\\\n",
    "                       .na.drop(subset=['artist_id'])\n",
    "artists_table.count()"
   ]
  },
  {
   "cell_type": "code",
   "execution_count": 47,
   "id": "dc52d91d-a61f-4666-b403-7e45ddfd9df5",
   "metadata": {
    "execution": {
     "iopub.execute_input": "2022-03-16T17:27:27.838613Z",
     "iopub.status.busy": "2022-03-16T17:27:27.838346Z",
     "iopub.status.idle": "2022-03-16T17:27:29.552734Z",
     "shell.execute_reply": "2022-03-16T17:27:29.551938Z",
     "shell.execute_reply.started": "2022-03-16T17:27:27.838575Z"
    }
   },
   "outputs": [
    {
     "data": {
      "application/vnd.jupyter.widget-view+json": {
       "model_id": "5b6b7b821355467680ed21ef2e611f79",
       "version_major": 2,
       "version_minor": 0
      },
      "text/plain": [
       "VBox()"
      ]
     },
     "metadata": {},
     "output_type": "display_data"
    },
    {
     "data": {
      "application/vnd.jupyter.widget-view+json": {
       "model_id": "",
       "version_major": 2,
       "version_minor": 0
      },
      "text/plain": [
       "FloatProgress(value=0.0, bar_style='info', description='Progress:', layout=Layout(height='25px', width='50%'),…"
      ]
     },
     "metadata": {},
     "output_type": "display_data"
    },
    {
     "name": "stdout",
     "output_type": "stream",
     "text": [
      "+------------------+----------------+--------------------+---------------+----------------+\n",
      "|         artist_id|     artist_name|     artist_location|artist_latitude|artist_longitude|\n",
      "+------------------+----------------+--------------------+---------------+----------------+\n",
      "|AR86HDW1187FB37331|McDonald & Giles|                    |           null|            null|\n",
      "|ARX2F7M1187B9A5563|            Maná|  NY - New York City|       40.71455|       -74.00712|\n",
      "|ARI66OL1187B9AFA5B|      Wilderness|       Baltimore, MD|       39.29055|        -76.6096|\n",
      "|AROBHXA1187B993C7E|    The Unicorns|Montreal, Quebec,...|       45.51228|       -73.55439|\n",
      "|AR059HI1187B9A14D7|      Roy Drusky|         Atlanta, GA|       33.74831|       -84.39111|\n",
      "+------------------+----------------+--------------------+---------------+----------------+\n",
      "only showing top 5 rows"
     ]
    }
   ],
   "source": [
    "artists_table.show(5)"
   ]
  },
  {
   "cell_type": "markdown",
   "id": "7fe50a27-7cd9-4860-aaf0-02a46d8072d4",
   "metadata": {},
   "source": [
    "### Writing artists table to parquet files into S3"
   ]
  },
  {
   "cell_type": "code",
   "execution_count": 48,
   "id": "b056cb12-bdd3-4abd-8596-aebd8f9ed57f",
   "metadata": {
    "execution": {
     "iopub.execute_input": "2022-03-16T17:27:29.554310Z",
     "iopub.status.busy": "2022-03-16T17:27:29.554064Z",
     "iopub.status.idle": "2022-03-16T17:29:26.625561Z",
     "shell.execute_reply": "2022-03-16T17:29:26.624637Z",
     "shell.execute_reply.started": "2022-03-16T17:27:29.554275Z"
    }
   },
   "outputs": [
    {
     "data": {
      "application/vnd.jupyter.widget-view+json": {
       "model_id": "29b095e6fbeb4f93a8d32e140bf2fbc0",
       "version_major": 2,
       "version_minor": 0
      },
      "text/plain": [
       "VBox()"
      ]
     },
     "metadata": {},
     "output_type": "display_data"
    },
    {
     "data": {
      "application/vnd.jupyter.widget-view+json": {
       "model_id": "",
       "version_major": 2,
       "version_minor": 0
      },
      "text/plain": [
       "FloatProgress(value=0.0, bar_style='info', description='Progress:', layout=Layout(height='25px', width='50%'),…"
      ]
     },
     "metadata": {},
     "output_type": "display_data"
    }
   ],
   "source": [
    "artists_table.write.parquet(output + 'songs_table', mode='Overwrite')"
   ]
  },
  {
   "cell_type": "markdown",
   "id": "a749eba8-c517-4e4b-b9c9-2c60a9e736a3",
   "metadata": {},
   "source": [
    "# Read log data"
   ]
  },
  {
   "cell_type": "code",
   "execution_count": 49,
   "id": "b09290db-e31b-4781-9180-36e860e28726",
   "metadata": {
    "execution": {
     "iopub.execute_input": "2022-03-16T17:29:26.628095Z",
     "iopub.status.busy": "2022-03-16T17:29:26.627575Z",
     "iopub.status.idle": "2022-03-16T17:29:29.242630Z",
     "shell.execute_reply": "2022-03-16T17:29:29.241791Z",
     "shell.execute_reply.started": "2022-03-16T17:29:26.628055Z"
    }
   },
   "outputs": [
    {
     "data": {
      "application/vnd.jupyter.widget-view+json": {
       "model_id": "2eed286c195c4b229bf846e10288488d",
       "version_major": 2,
       "version_minor": 0
      },
      "text/plain": [
       "VBox()"
      ]
     },
     "metadata": {},
     "output_type": "display_data"
    },
    {
     "data": {
      "application/vnd.jupyter.widget-view+json": {
       "model_id": "",
       "version_major": 2,
       "version_minor": 0
      },
      "text/plain": [
       "FloatProgress(value=0.0, bar_style='info', description='Progress:', layout=Layout(height='25px', width='50%'),…"
      ]
     },
     "metadata": {},
     "output_type": "display_data"
    },
    {
     "name": "stdout",
     "output_type": "stream",
     "text": [
      "8056"
     ]
    }
   ],
   "source": [
    "df_log = spark.read.json(logPath)\n",
    "df_log.persist()\n",
    "df_log.count()"
   ]
  },
  {
   "cell_type": "code",
   "execution_count": 50,
   "id": "ac1e84b9-2c89-4352-9fe8-28e69e10bfda",
   "metadata": {
    "execution": {
     "iopub.execute_input": "2022-03-16T17:29:29.245483Z",
     "iopub.status.busy": "2022-03-16T17:29:29.243837Z",
     "iopub.status.idle": "2022-03-16T17:29:30.145006Z",
     "shell.execute_reply": "2022-03-16T17:29:30.144259Z",
     "shell.execute_reply.started": "2022-03-16T17:29:29.245443Z"
    }
   },
   "outputs": [
    {
     "data": {
      "application/vnd.jupyter.widget-view+json": {
       "model_id": "1f1ef5afdcbe41c89f7e25a2c126a29b",
       "version_major": 2,
       "version_minor": 0
      },
      "text/plain": [
       "VBox()"
      ]
     },
     "metadata": {},
     "output_type": "display_data"
    },
    {
     "data": {
      "application/vnd.jupyter.widget-view+json": {
       "model_id": "",
       "version_major": 2,
       "version_minor": 0
      },
      "text/plain": [
       "FloatProgress(value=0.0, bar_style='info', description='Progress:', layout=Layout(height='25px', width='50%'),…"
      ]
     },
     "metadata": {},
     "output_type": "display_data"
    },
    {
     "name": "stdout",
     "output_type": "stream",
     "text": [
      "root\n",
      " |-- artist: string (nullable = true)\n",
      " |-- auth: string (nullable = true)\n",
      " |-- firstName: string (nullable = true)\n",
      " |-- gender: string (nullable = true)\n",
      " |-- itemInSession: long (nullable = true)\n",
      " |-- lastName: string (nullable = true)\n",
      " |-- length: double (nullable = true)\n",
      " |-- level: string (nullable = true)\n",
      " |-- location: string (nullable = true)\n",
      " |-- method: string (nullable = true)\n",
      " |-- page: string (nullable = true)\n",
      " |-- registration: double (nullable = true)\n",
      " |-- sessionId: long (nullable = true)\n",
      " |-- song: string (nullable = true)\n",
      " |-- status: long (nullable = true)\n",
      " |-- ts: long (nullable = true)\n",
      " |-- userAgent: string (nullable = true)\n",
      " |-- userId: string (nullable = true)"
     ]
    }
   ],
   "source": [
    "df_log.printSchema()"
   ]
  },
  {
   "cell_type": "markdown",
   "id": "c7a2ad3b-7454-45a1-95e1-edb2255691f7",
   "metadata": {},
   "source": [
    "### Converting `userId` type from string to integer"
   ]
  },
  {
   "cell_type": "code",
   "execution_count": 51,
   "id": "c47e40ba-1adf-4377-9b7a-124a12bf8375",
   "metadata": {
    "execution": {
     "iopub.execute_input": "2022-03-16T17:29:30.146733Z",
     "iopub.status.busy": "2022-03-16T17:29:30.146239Z",
     "iopub.status.idle": "2022-03-16T17:29:31.228362Z",
     "shell.execute_reply": "2022-03-16T17:29:31.227582Z",
     "shell.execute_reply.started": "2022-03-16T17:29:30.146694Z"
    }
   },
   "outputs": [
    {
     "data": {
      "application/vnd.jupyter.widget-view+json": {
       "model_id": "b04da26f6fdd4488b14bdc4ed1f133fe",
       "version_major": 2,
       "version_minor": 0
      },
      "text/plain": [
       "VBox()"
      ]
     },
     "metadata": {},
     "output_type": "display_data"
    },
    {
     "data": {
      "application/vnd.jupyter.widget-view+json": {
       "model_id": "",
       "version_major": 2,
       "version_minor": 0
      },
      "text/plain": [
       "FloatProgress(value=0.0, bar_style='info', description='Progress:', layout=Layout(height='25px', width='50%'),…"
      ]
     },
     "metadata": {},
     "output_type": "display_data"
    },
    {
     "name": "stdout",
     "output_type": "stream",
     "text": [
      "8056"
     ]
    }
   ],
   "source": [
    "df_log.withColumn('userId', F.when(F.col('userId') == '', None).otherwise(F.col('userId')))\\\n",
    "      .withColumn(\"userId\", F.col(\"userId\").cast(T.IntegerType()))\n",
    "df_log.count()"
   ]
  },
  {
   "cell_type": "markdown",
   "id": "b8bd64bf-6d2f-4653-8e4f-0701f1cf009c",
   "metadata": {},
   "source": [
    "Filtering by `NextSong` page"
   ]
  },
  {
   "cell_type": "code",
   "execution_count": 52,
   "id": "e67137ac-863d-4832-b818-b8287fe26ebb",
   "metadata": {
    "execution": {
     "iopub.execute_input": "2022-03-16T17:29:31.229949Z",
     "iopub.status.busy": "2022-03-16T17:29:31.229531Z",
     "iopub.status.idle": "2022-03-16T17:29:31.852104Z",
     "shell.execute_reply": "2022-03-16T17:29:31.851222Z",
     "shell.execute_reply.started": "2022-03-16T17:29:31.229910Z"
    }
   },
   "outputs": [
    {
     "data": {
      "application/vnd.jupyter.widget-view+json": {
       "model_id": "0813c7bfa7dd4d78854291cbfca990b9",
       "version_major": 2,
       "version_minor": 0
      },
      "text/plain": [
       "VBox()"
      ]
     },
     "metadata": {},
     "output_type": "display_data"
    },
    {
     "data": {
      "application/vnd.jupyter.widget-view+json": {
       "model_id": "",
       "version_major": 2,
       "version_minor": 0
      },
      "text/plain": [
       "FloatProgress(value=0.0, bar_style='info', description='Progress:', layout=Layout(height='25px', width='50%'),…"
      ]
     },
     "metadata": {},
     "output_type": "display_data"
    },
    {
     "name": "stdout",
     "output_type": "stream",
     "text": [
      "6820"
     ]
    }
   ],
   "source": [
    "df_log = df_log.filter(F.col(\"page\") == \"NextSong\")\n",
    "df_log.count()"
   ]
  },
  {
   "cell_type": "markdown",
   "id": "f077cb9a-71a9-47de-82dc-bde97c7058ae",
   "metadata": {},
   "source": [
    "## Users table"
   ]
  },
  {
   "cell_type": "code",
   "execution_count": 53,
   "id": "cefdbc50-c28c-4c35-a575-935b708adf74",
   "metadata": {
    "execution": {
     "iopub.execute_input": "2022-03-16T17:29:31.853205Z",
     "iopub.status.busy": "2022-03-16T17:29:31.853018Z",
     "iopub.status.idle": "2022-03-16T17:29:32.158972Z",
     "shell.execute_reply": "2022-03-16T17:29:32.158269Z",
     "shell.execute_reply.started": "2022-03-16T17:29:31.853181Z"
    }
   },
   "outputs": [
    {
     "data": {
      "application/vnd.jupyter.widget-view+json": {
       "model_id": "1c879ee8f64146a195b84f7717da9fc5",
       "version_major": 2,
       "version_minor": 0
      },
      "text/plain": [
       "VBox()"
      ]
     },
     "metadata": {},
     "output_type": "display_data"
    },
    {
     "data": {
      "application/vnd.jupyter.widget-view+json": {
       "model_id": "",
       "version_major": 2,
       "version_minor": 0
      },
      "text/plain": [
       "FloatProgress(value=0.0, bar_style='info', description='Progress:', layout=Layout(height='25px', width='50%'),…"
      ]
     },
     "metadata": {},
     "output_type": "display_data"
    }
   ],
   "source": [
    "user_cols = [\"user_id\", \"first_name\", \"last_name\", \"gender\", \"level\"]"
   ]
  },
  {
   "cell_type": "markdown",
   "id": "73f82448-0904-4a1a-a364-150278edcbad",
   "metadata": {},
   "source": [
    "- First renaming `userId`, `firstName`, `lastName` columns.\n",
    "- Required columns are selected.\n",
    "- Duplicated rows are dropped.\n",
    "- Row with null values in `user_id` column are dropped."
   ]
  },
  {
   "cell_type": "code",
   "execution_count": 54,
   "id": "4b5b4b1a-d32e-4237-b953-cac776f53ddc",
   "metadata": {
    "execution": {
     "iopub.execute_input": "2022-03-16T17:29:32.225259Z",
     "iopub.status.busy": "2022-03-16T17:29:32.160115Z",
     "iopub.status.idle": "2022-03-16T17:29:33.425423Z",
     "shell.execute_reply": "2022-03-16T17:29:33.351657Z",
     "shell.execute_reply.started": "2022-03-16T17:29:32.225188Z"
    }
   },
   "outputs": [
    {
     "data": {
      "application/vnd.jupyter.widget-view+json": {
       "model_id": "d109f44adb954f1291756092131a09ce",
       "version_major": 2,
       "version_minor": 0
      },
      "text/plain": [
       "VBox()"
      ]
     },
     "metadata": {},
     "output_type": "display_data"
    },
    {
     "data": {
      "application/vnd.jupyter.widget-view+json": {
       "model_id": "",
       "version_major": 2,
       "version_minor": 0
      },
      "text/plain": [
       "FloatProgress(value=0.0, bar_style='info', description='Progress:', layout=Layout(height='25px', width='50%'),…"
      ]
     },
     "metadata": {},
     "output_type": "display_data"
    },
    {
     "name": "stdout",
     "output_type": "stream",
     "text": [
      "104"
     ]
    }
   ],
   "source": [
    "users_table = df_log.withColumnRenamed('userId', 'user_id')\\\n",
    "                    .withColumnRenamed('firstName', 'first_name')\\\n",
    "                    .withColumnRenamed('lastName', 'last_name')\\\n",
    "                    .select(user_cols)\\\n",
    "                    .distinct()\\\n",
    "                    .na.drop(subset=['user_id'])\n",
    "users_table.count()"
   ]
  },
  {
   "cell_type": "code",
   "execution_count": 55,
   "id": "1a45c36f-0c52-424b-945a-6e675ff03203",
   "metadata": {
    "execution": {
     "iopub.execute_input": "2022-03-16T17:29:33.428482Z",
     "iopub.status.busy": "2022-03-16T17:29:33.427946Z",
     "iopub.status.idle": "2022-03-16T17:29:34.241645Z",
     "shell.execute_reply": "2022-03-16T17:29:34.240827Z",
     "shell.execute_reply.started": "2022-03-16T17:29:33.428439Z"
    }
   },
   "outputs": [
    {
     "data": {
      "application/vnd.jupyter.widget-view+json": {
       "model_id": "94e0497b724a4e9da8e7bf77def39fa9",
       "version_major": 2,
       "version_minor": 0
      },
      "text/plain": [
       "VBox()"
      ]
     },
     "metadata": {},
     "output_type": "display_data"
    },
    {
     "data": {
      "application/vnd.jupyter.widget-view+json": {
       "model_id": "",
       "version_major": 2,
       "version_minor": 0
      },
      "text/plain": [
       "FloatProgress(value=0.0, bar_style='info', description='Progress:', layout=Layout(height='25px', width='50%'),…"
      ]
     },
     "metadata": {},
     "output_type": "display_data"
    },
    {
     "name": "stdout",
     "output_type": "stream",
     "text": [
      "+-------+----------+---------+------+-----+\n",
      "|user_id|first_name|last_name|gender|level|\n",
      "+-------+----------+---------+------+-----+\n",
      "|     26|      Ryan|    Smith|     M| free|\n",
      "|      7|    Adelyn|   Jordan|     F| free|\n",
      "|     71|    Ayleen|     Wise|     F| free|\n",
      "|     81|    Sienna|    Colon|     F| free|\n",
      "|     23|    Morris|  Gilmore|     M| free|\n",
      "+-------+----------+---------+------+-----+\n",
      "only showing top 5 rows"
     ]
    }
   ],
   "source": [
    "users_table.show(5)"
   ]
  },
  {
   "cell_type": "markdown",
   "id": "ed155d34-8c3f-40f2-bfd9-bd97ae181103",
   "metadata": {},
   "source": [
    "### Writing users table to parquet files into S3"
   ]
  },
  {
   "cell_type": "code",
   "execution_count": 56,
   "id": "b1254337-719c-48b4-a3b6-6fad10f3050b",
   "metadata": {
    "execution": {
     "iopub.execute_input": "2022-03-16T17:29:34.242890Z",
     "iopub.status.busy": "2022-03-16T17:29:34.242637Z",
     "iopub.status.idle": "2022-03-16T17:30:26.468073Z",
     "shell.execute_reply": "2022-03-16T17:30:26.467252Z",
     "shell.execute_reply.started": "2022-03-16T17:29:34.242855Z"
    }
   },
   "outputs": [
    {
     "data": {
      "application/vnd.jupyter.widget-view+json": {
       "model_id": "f8d43aec218b4d39a9e480b05695f221",
       "version_major": 2,
       "version_minor": 0
      },
      "text/plain": [
       "VBox()"
      ]
     },
     "metadata": {},
     "output_type": "display_data"
    },
    {
     "data": {
      "application/vnd.jupyter.widget-view+json": {
       "model_id": "",
       "version_major": 2,
       "version_minor": 0
      },
      "text/plain": [
       "FloatProgress(value=0.0, bar_style='info', description='Progress:', layout=Layout(height='25px', width='50%'),…"
      ]
     },
     "metadata": {},
     "output_type": "display_data"
    }
   ],
   "source": [
    "users_table.write.parquet(output + 'users_table', mode='Overwrite')"
   ]
  },
  {
   "cell_type": "markdown",
   "id": "20a7ba25-6484-4d7b-b061-ab25a1a02f5f",
   "metadata": {},
   "source": [
    "## Time table\n",
    "\n",
    "### Converting `epoch` to timestamp"
   ]
  },
  {
   "cell_type": "code",
   "execution_count": 57,
   "id": "5fed55a0-1bd3-40bd-b067-99d2261b32c0",
   "metadata": {
    "execution": {
     "iopub.execute_input": "2022-03-16T17:30:26.472077Z",
     "iopub.status.busy": "2022-03-16T17:30:26.471734Z",
     "iopub.status.idle": "2022-03-16T17:30:26.882833Z",
     "shell.execute_reply": "2022-03-16T17:30:26.882167Z",
     "shell.execute_reply.started": "2022-03-16T17:30:26.472046Z"
    }
   },
   "outputs": [
    {
     "data": {
      "application/vnd.jupyter.widget-view+json": {
       "model_id": "cb255f5460c84f1783b24acb06adf799",
       "version_major": 2,
       "version_minor": 0
      },
      "text/plain": [
       "VBox()"
      ]
     },
     "metadata": {},
     "output_type": "display_data"
    },
    {
     "data": {
      "application/vnd.jupyter.widget-view+json": {
       "model_id": "",
       "version_major": 2,
       "version_minor": 0
      },
      "text/plain": [
       "FloatProgress(value=0.0, bar_style='info', description='Progress:', layout=Layout(height='25px', width='50%'),…"
      ]
     },
     "metadata": {},
     "output_type": "display_data"
    },
    {
     "name": "stdout",
     "output_type": "stream",
     "text": [
      "+-------------+-----------------------+\n",
      "|ts           |start_time             |\n",
      "+-------------+-----------------------+\n",
      "|1542241826796|2018-11-15 00:30:26.796|\n",
      "|1542242481796|2018-11-15 00:41:21.796|\n",
      "|1542242741796|2018-11-15 00:45:41.796|\n",
      "|1542253449796|2018-11-15 03:44:09.796|\n",
      "|1542260935796|2018-11-15 05:48:55.796|\n",
      "+-------------+-----------------------+\n",
      "only showing top 5 rows"
     ]
    }
   ],
   "source": [
    "df_log = df_log.na.drop(subset=['ts'])\\\n",
    "               .withColumn('start_time', F.to_timestamp(F.col(\"ts\") / 1000))\n",
    "df_log.select('ts','start_time').show(5, truncate=False)"
   ]
  },
  {
   "cell_type": "markdown",
   "id": "d6d779c6-54d3-4dde-ad2e-39c1eb728c66",
   "metadata": {},
   "source": [
    "- Selecting `start_time` column.\n",
    "- Extracting `hour`, `day`, `week`, `month`, `year` and `weekday` from `start_time`."
   ]
  },
  {
   "cell_type": "code",
   "execution_count": 58,
   "id": "f7508bf0-23e2-45fe-9726-6798ef6b90e3",
   "metadata": {
    "execution": {
     "iopub.execute_input": "2022-03-16T17:30:26.885292Z",
     "iopub.status.busy": "2022-03-16T17:30:26.885092Z",
     "iopub.status.idle": "2022-03-16T17:30:27.351780Z",
     "shell.execute_reply": "2022-03-16T17:30:27.351036Z",
     "shell.execute_reply.started": "2022-03-16T17:30:26.885267Z"
    }
   },
   "outputs": [
    {
     "data": {
      "application/vnd.jupyter.widget-view+json": {
       "model_id": "ddb6e4fc1f2e41e3800ac1b976f60907",
       "version_major": 2,
       "version_minor": 0
      },
      "text/plain": [
       "VBox()"
      ]
     },
     "metadata": {},
     "output_type": "display_data"
    },
    {
     "data": {
      "application/vnd.jupyter.widget-view+json": {
       "model_id": "",
       "version_major": 2,
       "version_minor": 0
      },
      "text/plain": [
       "FloatProgress(value=0.0, bar_style='info', description='Progress:', layout=Layout(height='25px', width='50%'),…"
      ]
     },
     "metadata": {},
     "output_type": "display_data"
    },
    {
     "name": "stdout",
     "output_type": "stream",
     "text": [
      "+-----------------------+----+---+----+-----+----+-------+\n",
      "|start_time             |hour|day|week|month|year|weekday|\n",
      "+-----------------------+----+---+----+-----+----+-------+\n",
      "|2018-11-15 00:30:26.796|0   |15 |46  |11   |2018|5      |\n",
      "|2018-11-15 00:41:21.796|0   |15 |46  |11   |2018|5      |\n",
      "|2018-11-15 00:45:41.796|0   |15 |46  |11   |2018|5      |\n",
      "|2018-11-15 03:44:09.796|3   |15 |46  |11   |2018|5      |\n",
      "|2018-11-15 05:48:55.796|5   |15 |46  |11   |2018|5      |\n",
      "+-----------------------+----+---+----+-----+----+-------+\n",
      "only showing top 5 rows"
     ]
    }
   ],
   "source": [
    "time_table = df_log.select('start_time')\\\n",
    "                   .withColumn('hour', F.hour(F.col(\"start_time\")))\\\n",
    "                   .withColumn('day', F.dayofmonth(F.col(\"start_time\")))\\\n",
    "                   .withColumn('week', F.weekofyear(F.col(\"start_time\")))\\\n",
    "                   .withColumn('month', F.month(F.col(\"start_time\")))\\\n",
    "                   .withColumn('year', F.year(F.col(\"start_time\")))\\\n",
    "                   .withColumn('weekday', F.dayofweek(F.col(\"start_time\")))\n",
    "time_table.show(5, truncate=False)"
   ]
  },
  {
   "cell_type": "code",
   "execution_count": 59,
   "id": "7cfc9a30-d9ba-468f-ad15-ebb51bf476fd",
   "metadata": {
    "execution": {
     "iopub.execute_input": "2022-03-16T17:30:27.353691Z",
     "iopub.status.busy": "2022-03-16T17:30:27.353434Z",
     "iopub.status.idle": "2022-03-16T17:30:27.626772Z",
     "shell.execute_reply": "2022-03-16T17:30:27.625776Z",
     "shell.execute_reply.started": "2022-03-16T17:30:27.353654Z"
    }
   },
   "outputs": [
    {
     "data": {
      "application/vnd.jupyter.widget-view+json": {
       "model_id": "bb6b1d59ef9e43a5aa255e6cf3cf93f2",
       "version_major": 2,
       "version_minor": 0
      },
      "text/plain": [
       "VBox()"
      ]
     },
     "metadata": {},
     "output_type": "display_data"
    },
    {
     "data": {
      "application/vnd.jupyter.widget-view+json": {
       "model_id": "",
       "version_major": 2,
       "version_minor": 0
      },
      "text/plain": [
       "FloatProgress(value=0.0, bar_style='info', description='Progress:', layout=Layout(height='25px', width='50%'),…"
      ]
     },
     "metadata": {},
     "output_type": "display_data"
    },
    {
     "name": "stdout",
     "output_type": "stream",
     "text": [
      "root\n",
      " |-- start_time: timestamp (nullable = true)\n",
      " |-- hour: integer (nullable = true)\n",
      " |-- day: integer (nullable = true)\n",
      " |-- week: integer (nullable = true)\n",
      " |-- month: integer (nullable = true)\n",
      " |-- year: integer (nullable = true)\n",
      " |-- weekday: integer (nullable = true)"
     ]
    }
   ],
   "source": [
    "time_table.printSchema()"
   ]
  },
  {
   "cell_type": "markdown",
   "id": "0f7413f9-e0f1-4c2f-bd40-dd3fa30d833c",
   "metadata": {},
   "source": [
    "### Writing time table to parquet files into S3"
   ]
  },
  {
   "cell_type": "code",
   "execution_count": 60,
   "id": "a6eacd7c-9acb-435d-85b1-9dc5916b5cfa",
   "metadata": {
    "execution": {
     "iopub.execute_input": "2022-03-16T17:30:27.628526Z",
     "iopub.status.busy": "2022-03-16T17:30:27.628069Z",
     "iopub.status.idle": "2022-03-16T17:30:37.415109Z",
     "shell.execute_reply": "2022-03-16T17:30:37.414296Z",
     "shell.execute_reply.started": "2022-03-16T17:30:27.628470Z"
    }
   },
   "outputs": [
    {
     "data": {
      "application/vnd.jupyter.widget-view+json": {
       "model_id": "c90c6228a4a44f2dad4353b95847c5fc",
       "version_major": 2,
       "version_minor": 0
      },
      "text/plain": [
       "VBox()"
      ]
     },
     "metadata": {},
     "output_type": "display_data"
    },
    {
     "data": {
      "application/vnd.jupyter.widget-view+json": {
       "model_id": "",
       "version_major": 2,
       "version_minor": 0
      },
      "text/plain": [
       "FloatProgress(value=0.0, bar_style='info', description='Progress:', layout=Layout(height='25px', width='50%'),…"
      ]
     },
     "metadata": {},
     "output_type": "display_data"
    }
   ],
   "source": [
    "time_table.write.parquet(output + 'time_table', partitionBy=['year', 'month'], mode='Overwrite')"
   ]
  },
  {
   "cell_type": "markdown",
   "id": "e7ec4e0b-c0be-4537-bccd-21d8faeb7ab2",
   "metadata": {},
   "source": [
    "## Songplays table"
   ]
  },
  {
   "cell_type": "code",
   "execution_count": 61,
   "id": "d078d823-0eab-4821-8036-af907d273f47",
   "metadata": {
    "execution": {
     "iopub.execute_input": "2022-03-16T17:30:37.417502Z",
     "iopub.status.busy": "2022-03-16T17:30:37.416943Z",
     "iopub.status.idle": "2022-03-16T17:30:37.646788Z",
     "shell.execute_reply": "2022-03-16T17:30:37.645729Z",
     "shell.execute_reply.started": "2022-03-16T17:30:37.417462Z"
    }
   },
   "outputs": [
    {
     "data": {
      "application/vnd.jupyter.widget-view+json": {
       "model_id": "25502ed1d3294f49aab85725f22e4934",
       "version_major": 2,
       "version_minor": 0
      },
      "text/plain": [
       "VBox()"
      ]
     },
     "metadata": {},
     "output_type": "display_data"
    },
    {
     "data": {
      "application/vnd.jupyter.widget-view+json": {
       "model_id": "",
       "version_major": 2,
       "version_minor": 0
      },
      "text/plain": [
       "FloatProgress(value=0.0, bar_style='info', description='Progress:', layout=Layout(height='25px', width='50%'),…"
      ]
     },
     "metadata": {},
     "output_type": "display_data"
    }
   ],
   "source": [
    "songplays_cols = ['songplay_id', 'start_time', 'user_id', 'level', 'song_id', 'artist_id', 'session_id', 'location', 'user_agent']"
   ]
  },
  {
   "cell_type": "markdown",
   "id": "2984a211-7e66-4d27-bac6-99d0653e3164",
   "metadata": {},
   "source": [
    "- First renaming columns.\n",
    "- Dropping rows with null values in `song` and `artist` columns (because I'll be joinning dataframes based on them)"
   ]
  },
  {
   "cell_type": "code",
   "execution_count": 62,
   "id": "632e5ad7-9e77-4804-b465-b64e25b3f1f4",
   "metadata": {
    "execution": {
     "iopub.execute_input": "2022-03-16T17:30:37.648874Z",
     "iopub.status.busy": "2022-03-16T17:30:37.648363Z",
     "iopub.status.idle": "2022-03-16T17:30:37.934931Z",
     "shell.execute_reply": "2022-03-16T17:30:37.933991Z",
     "shell.execute_reply.started": "2022-03-16T17:30:37.648834Z"
    }
   },
   "outputs": [
    {
     "data": {
      "application/vnd.jupyter.widget-view+json": {
       "model_id": "ddfdd7a2c9e440de98e715717f9a5784",
       "version_major": 2,
       "version_minor": 0
      },
      "text/plain": [
       "VBox()"
      ]
     },
     "metadata": {},
     "output_type": "display_data"
    },
    {
     "data": {
      "application/vnd.jupyter.widget-view+json": {
       "model_id": "",
       "version_major": 2,
       "version_minor": 0
      },
      "text/plain": [
       "FloatProgress(value=0.0, bar_style='info', description='Progress:', layout=Layout(height='25px', width='50%'),…"
      ]
     },
     "metadata": {},
     "output_type": "display_data"
    }
   ],
   "source": [
    "df_songplays = df_log.withColumnRenamed('userId', 'user_id')\\\n",
    "                     .withColumnRenamed('sessionId', 'session_id')\\\n",
    "                     .withColumnRenamed('userAgent', 'user_agent')\\\n",
    "                     .na.drop(subset=['song','artist'])\\\n",
    "                     .select('start_time', 'user_id', 'level', 'song', 'artist', 'session_id', 'location', 'user_agent')"
   ]
  },
  {
   "cell_type": "markdown",
   "id": "98ea0f70-9608-4715-8f90-709089374623",
   "metadata": {},
   "source": [
    "- First joinning on `song`=`title` and `artist`=`artist_name`.\n",
    "- Selecting required columns."
   ]
  },
  {
   "cell_type": "code",
   "execution_count": 63,
   "id": "c4e863e4-cac0-49ea-b112-b90f193b290e",
   "metadata": {
    "execution": {
     "iopub.execute_input": "2022-03-16T17:30:37.936753Z",
     "iopub.status.busy": "2022-03-16T17:30:37.936419Z",
     "iopub.status.idle": "2022-03-16T17:30:39.510418Z",
     "shell.execute_reply": "2022-03-16T17:30:39.508915Z",
     "shell.execute_reply.started": "2022-03-16T17:30:37.936712Z"
    }
   },
   "outputs": [
    {
     "data": {
      "application/vnd.jupyter.widget-view+json": {
       "model_id": "1a8b1d77b6964fef8df5878c7c10861d",
       "version_major": 2,
       "version_minor": 0
      },
      "text/plain": [
       "VBox()"
      ]
     },
     "metadata": {},
     "output_type": "display_data"
    },
    {
     "data": {
      "application/vnd.jupyter.widget-view+json": {
       "model_id": "",
       "version_major": 2,
       "version_minor": 0
      },
      "text/plain": [
       "FloatProgress(value=0.0, bar_style='info', description='Progress:', layout=Layout(height='25px', width='50%'),…"
      ]
     },
     "metadata": {},
     "output_type": "display_data"
    },
    {
     "name": "stdout",
     "output_type": "stream",
     "text": [
      "333"
     ]
    }
   ],
   "source": [
    "songplays_table = df_song.join(df_songplays, (df_song.artist_name == df_songplays.artist) & \n",
    "                                             (df_song.title == df_songplays.song))\\\n",
    "                         .withColumn(\"songplay_id\", F.row_number().over(Window.partitionBy().orderBy(F.col('session_id'))))\\\n",
    "                         .select(songplays_cols)\n",
    "songplays_table.count()"
   ]
  },
  {
   "cell_type": "code",
   "execution_count": 64,
   "id": "342cf5b9-897d-4e1e-8950-471b94bcaa6d",
   "metadata": {
    "execution": {
     "iopub.execute_input": "2022-03-16T17:30:39.512191Z",
     "iopub.status.busy": "2022-03-16T17:30:39.511928Z",
     "iopub.status.idle": "2022-03-16T17:30:41.140758Z",
     "shell.execute_reply": "2022-03-16T17:30:41.140077Z",
     "shell.execute_reply.started": "2022-03-16T17:30:39.512153Z"
    }
   },
   "outputs": [
    {
     "data": {
      "application/vnd.jupyter.widget-view+json": {
       "model_id": "cee5680b2dc94612b082c07d47fcf065",
       "version_major": 2,
       "version_minor": 0
      },
      "text/plain": [
       "VBox()"
      ]
     },
     "metadata": {},
     "output_type": "display_data"
    },
    {
     "data": {
      "application/vnd.jupyter.widget-view+json": {
       "model_id": "",
       "version_major": 2,
       "version_minor": 0
      },
      "text/plain": [
       "FloatProgress(value=0.0, bar_style='info', description='Progress:', layout=Layout(height='25px', width='50%'),…"
      ]
     },
     "metadata": {},
     "output_type": "display_data"
    },
    {
     "name": "stdout",
     "output_type": "stream",
     "text": [
      "+-----------+--------------------+-------+-----+------------------+------------------+----------+--------------------+--------------------+\n",
      "|songplay_id|          start_time|user_id|level|           song_id|         artist_id|session_id|            location|          user_agent|\n",
      "+-----------+--------------------+-------+-----+------------------+------------------+----------+--------------------+--------------------+\n",
      "|          1|2018-11-05 15:31:...|     24| paid|SOBONKR12A58A7A7E0|AR5E44Z1187B9A1D74|        23|Lake Havasu City-...|\"Mozilla/5.0 (Win...|\n",
      "|          2|2018-11-03 01:12:...|     53| free|SOSELMV12A6D4FCF5A|ARWD25M1187FB4C563|        52|   Klamath Falls, OR|\"Mozilla/5.0 (Win...|\n",
      "|          3|2018-11-05 05:57:...|     57| free|SOCGOZK12A8151BD5D|ARM0P6Z1187FB4D466|        56|San Antonio-New B...|\"Mozilla/5.0 (Mac...|\n",
      "|          4|2018-11-02 18:36:...|     71| free|SOBBZPM12AB017DF4B|ARH6W4X1187B99274F|        70|        Columbia, SC|\"Mozilla/5.0 (iPh...|\n",
      "|          5|2018-11-04 19:35:...|     73| paid|SOULTKQ12AB018A183|ARKQQZA12086C116FC|        72|Tampa-St. Petersb...|\"Mozilla/5.0 (Mac...|\n",
      "+-----------+--------------------+-------+-----+------------------+------------------+----------+--------------------+--------------------+\n",
      "only showing top 5 rows"
     ]
    }
   ],
   "source": [
    "songplays_table.show(5)"
   ]
  },
  {
   "cell_type": "markdown",
   "id": "b84525f5-f0c1-4dfc-b9f0-343908247015",
   "metadata": {},
   "source": [
    "### Writing songplays table to parquet files into S3\n",
    "Adding `month` and `year` columns in order to partition by `year` and `month`"
   ]
  },
  {
   "cell_type": "code",
   "execution_count": 65,
   "id": "38b26bd7-daac-432d-a871-194a9e1c4fc5",
   "metadata": {
    "execution": {
     "iopub.execute_input": "2022-03-16T17:30:41.142044Z",
     "iopub.status.busy": "2022-03-16T17:30:41.141805Z",
     "iopub.status.idle": "2022-03-16T17:30:42.841059Z",
     "shell.execute_reply": "2022-03-16T17:30:42.839847Z",
     "shell.execute_reply.started": "2022-03-16T17:30:41.142008Z"
    }
   },
   "outputs": [
    {
     "data": {
      "application/vnd.jupyter.widget-view+json": {
       "model_id": "f61525af802243e39e2ea90d056522d3",
       "version_major": 2,
       "version_minor": 0
      },
      "text/plain": [
       "VBox()"
      ]
     },
     "metadata": {},
     "output_type": "display_data"
    },
    {
     "data": {
      "application/vnd.jupyter.widget-view+json": {
       "model_id": "",
       "version_major": 2,
       "version_minor": 0
      },
      "text/plain": [
       "FloatProgress(value=0.0, bar_style='info', description='Progress:', layout=Layout(height='25px', width='50%'),…"
      ]
     },
     "metadata": {},
     "output_type": "display_data"
    },
    {
     "name": "stdout",
     "output_type": "stream",
     "text": [
      "+-----------+--------------------+-------+-----+------------------+------------------+----------+--------------------+--------------------+-----+----+\n",
      "|songplay_id|          start_time|user_id|level|           song_id|         artist_id|session_id|            location|          user_agent|month|year|\n",
      "+-----------+--------------------+-------+-----+------------------+------------------+----------+--------------------+--------------------+-----+----+\n",
      "|          1|2018-11-05 15:31:...|     24| paid|SOBONKR12A58A7A7E0|AR5E44Z1187B9A1D74|        23|Lake Havasu City-...|\"Mozilla/5.0 (Win...|   11|2018|\n",
      "|          2|2018-11-03 01:12:...|     53| free|SOSELMV12A6D4FCF5A|ARWD25M1187FB4C563|        52|   Klamath Falls, OR|\"Mozilla/5.0 (Win...|   11|2018|\n",
      "|          3|2018-11-05 05:57:...|     57| free|SOCGOZK12A8151BD5D|ARM0P6Z1187FB4D466|        56|San Antonio-New B...|\"Mozilla/5.0 (Mac...|   11|2018|\n",
      "|          4|2018-11-02 18:36:...|     71| free|SOBBZPM12AB017DF4B|ARH6W4X1187B99274F|        70|        Columbia, SC|\"Mozilla/5.0 (iPh...|   11|2018|\n",
      "|          5|2018-11-04 19:35:...|     73| paid|SOULTKQ12AB018A183|ARKQQZA12086C116FC|        72|Tampa-St. Petersb...|\"Mozilla/5.0 (Mac...|   11|2018|\n",
      "+-----------+--------------------+-------+-----+------------------+------------------+----------+--------------------+--------------------+-----+----+\n",
      "only showing top 5 rows"
     ]
    }
   ],
   "source": [
    "songplays_table = songplays_table.withColumn('month', F.month(F.col(\"start_time\")))\\\n",
    "                                 .withColumn('year', F.year(F.col(\"start_time\")))\n",
    "songplays_table.show(5)"
   ]
  },
  {
   "cell_type": "code",
   "execution_count": 66,
   "id": "f0184c05-c68e-4e94-8b81-b4ab3896ac13",
   "metadata": {
    "execution": {
     "iopub.execute_input": "2022-03-16T17:30:42.842620Z",
     "iopub.status.busy": "2022-03-16T17:30:42.842376Z",
     "iopub.status.idle": "2022-03-16T17:30:47.042235Z",
     "shell.execute_reply": "2022-03-16T17:30:47.041373Z",
     "shell.execute_reply.started": "2022-03-16T17:30:42.842585Z"
    },
    "tags": []
   },
   "outputs": [
    {
     "data": {
      "application/vnd.jupyter.widget-view+json": {
       "model_id": "b7a8eb34e62e460ebe969dbf0b6a6508",
       "version_major": 2,
       "version_minor": 0
      },
      "text/plain": [
       "VBox()"
      ]
     },
     "metadata": {},
     "output_type": "display_data"
    },
    {
     "data": {
      "application/vnd.jupyter.widget-view+json": {
       "model_id": "",
       "version_major": 2,
       "version_minor": 0
      },
      "text/plain": [
       "FloatProgress(value=0.0, bar_style='info', description='Progress:', layout=Layout(height='25px', width='50%'),…"
      ]
     },
     "metadata": {},
     "output_type": "display_data"
    }
   ],
   "source": [
    "songplays_table.write.parquet(output + 'songplays_table', partitionBy=['year', 'month'], mode='Overwrite')"
   ]
  }
 ],
 "metadata": {
  "kernelspec": {
   "display_name": "PySpark",
   "language": "",
   "name": "pysparkkernel"
  },
  "language_info": {
   "codemirror_mode": {
    "name": "python",
    "version": 2
   },
   "mimetype": "text/x-python",
   "name": "pyspark",
   "pygments_lexer": "python2"
  }
 },
 "nbformat": 4,
 "nbformat_minor": 5
}
